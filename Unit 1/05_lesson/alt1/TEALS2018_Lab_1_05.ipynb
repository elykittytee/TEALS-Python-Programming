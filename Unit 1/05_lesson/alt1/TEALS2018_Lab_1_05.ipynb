{
  "nbformat": 4,
  "nbformat_minor": 0,
  "metadata": {
    "colab": {
      "name": "TEALS2018 Lab 1.05.ipynb",
      "version": "0.3.2",
      "views": {},
      "default_view": {},
      "provenance": [],
      "private_outputs": true,
      "collapsed_sections": []
    },
    "kernelspec": {
      "name": "python3",
      "display_name": "Python 3"
    }
  },
  "cells": [
    {
      "metadata": {
        "id": "WdChemnzEam8",
        "colab_type": "text"
      },
      "cell_type": "markdown",
      "source": [
        "# Lab 1.05\n",
        "\n",
        "## Learning objectives\n",
        "\n",
        "After completing this lab, students will be able to...\n",
        "\n",
        "* Demonstrate their understanding of key concepts covered up to this point\n",
        "* Define and identify: **debugging**, **syntax errors**\n",
        "* Analyze and respond to error messages"
      ]
    },
    {
      "metadata": {
        "id": "bEM_H9LWK1PO",
        "colab_type": "text"
      },
      "cell_type": "markdown",
      "source": [
        "## Introduction\n",
        "\n",
        "In this lab, you will now be explore how to read, analyze, and respond to errors in code. You'll be doing this a lot!! Even seasoned programmers spend most of their time figuring out what was wrong with their first-draft of a program, and repeatedly revising it until it's just right. Python tries to help you out."
      ]
    },
    {
      "metadata": {
        "id": "FUvggQiKFGN4",
        "colab_type": "text"
      },
      "cell_type": "markdown",
      "source": [
        "## A First Error\n",
        "\n",
        "Read through this code and predict what will be printed out. Remember to go line by line, as if you were the interpreter.\n",
        "\n",
        "\n"
      ]
    },
    {
      "metadata": {
        "id": "A1mI2pEkDYvZ",
        "colab_type": "code",
        "colab": {
          "autoexec": {
            "startup": false,
            "wait_interval": 0
          }
        }
      },
      "cell_type": "code",
      "source": [
        "favorite_number_str = input(\"What is your favorite number: \")\n",
        "birth_month_str = input(\"What month where you born in: \")\n",
        "\n",
        "lucky_number = int(favorite_number_str) + int(birth_month_str)\n",
        "print(\"Your lucky number is \" + str(lucky_number))"
      ],
      "execution_count": 0,
      "outputs": []
    },
    {
      "metadata": {
        "id": "Lsg0rIIUFdOY",
        "colab_type": "text"
      },
      "cell_type": "markdown",
      "source": [
        "This code has an error in it. When you run the code, it should generate an error message.\n",
        "\n",
        "Run the code now by hovering over the brackets to the left of the first line, and pressing the triangle.\n",
        "\n",
        "**Enter `10`** as your favorite number and **`March`** as the month you were born in.\n",
        "\n",
        "You should get something like this:\n"
      ]
    },
    {
      "metadata": {
        "id": "7vusjyJUHJEn",
        "colab_type": "text"
      },
      "cell_type": "markdown",
      "source": [
        "\n",
        "\n",
        "```\n",
        "What is your favorite number: 10\n",
        "What month where you born in: March\n",
        "---------------------------------------------------------------------------\n",
        "ValueError                                Traceback (most recent call last)\n",
        "<ipython-input-3-b075f827caf5> in <module>()\n",
        "      2 birth_month_str = input(\"What month where you born in: \")\n",
        "      3 \n",
        "----> 4 lucky_number = int(favorite_number_str) + int(birth_month_str)\n",
        "      5 print(\"Your lucky number is \" + str(lucky_number))\n",
        "\n",
        "ValueError: invalid literal for int() with base 10: 'March'\n",
        "```\n",
        "<br><br>\n",
        "\n",
        "\n",
        "\n",
        "\n",
        "\n",
        "\n",
        "Congratulations, you've caused your first error!"
      ]
    },
    {
      "metadata": {
        "id": "L0Xd1cu_HAX_",
        "colab_type": "text"
      },
      "cell_type": "markdown",
      "source": [
        "## Error Reports\n",
        "\n",
        "When you run a Python program the interpreter executes as much of the program as it can, line by line. If it reaches a line with an error, it halts and reports the problem. The report can be hard to read, but with practice it gets easier.\n",
        "\n",
        "\n",
        "The most useful line of the report is the last one. In this example, it says there is a `ValueError` involving something with integers, base 10, and the input `March`.\n",
        "\n",
        "A **ValueError** occurs in Python when a command receives an input that has the right type, but an inappropriate value.\n",
        "\n",
        "The next most useful part of the report is the partial listing of the code with an arrow pointing to the line where the error occured (line 4 in this example). Something is wrong with the line the is generating `lucky_number`.\n",
        "\n",
        "Putting these facts together, we can spot the problem: line 4 is trying to make integers out of the two inputs so it can add them together to make `lucky_number`. But the `int()` function doesn't know how to interpret \"March\" as a base 10 value (it's not smart enough to decide it should be 3, as it's the 3rd month).\n"
      ]
    },
    {
      "metadata": {
        "id": "WNnwVOFcMoI6",
        "colab_type": "text"
      },
      "cell_type": "markdown",
      "source": [
        "## Debugging\n",
        "\n",
        "**Debugging** is the process of tracking and fixing errors in your code. There's no one recipe for how to do it -- it requires a lot of thinking, reasoning, and testing. But there are many good habits that can help. The first rule of debugging is:"
      ]
    },
    {
      "metadata": {
        "id": "r9Hxt2vlNhHq",
        "colab_type": "code",
        "colab": {
          "autoexec": {
            "startup": false,
            "wait_interval": 0
          }
        }
      },
      "cell_type": "code",
      "source": [
        "%%html\n",
        "<p style='color:red;font-size:300%;'>Read the error message</p>"
      ],
      "execution_count": 0,
      "outputs": []
    },
    {
      "metadata": {
        "id": "fxQ4nJf7NQOr",
        "colab_type": "text"
      },
      "cell_type": "markdown",
      "source": [
        "Let's try applying that rule to another program with a mistake in it. Read the following code and try to predict what it will do. Then run the code by hovering over the brackets to the left of the first line and clicking the triangle."
      ]
    },
    {
      "metadata": {
        "id": "LA_7rTngPSyw",
        "colab_type": "code",
        "colab": {
          "autoexec": {
            "startup": false,
            "wait_interval": 0
          }
        }
      },
      "cell_type": "code",
      "source": [
        "month = \"February\"\n",
        "date = 6\n",
        "year = 2018\n",
        "\n",
        "print(\"Today is \" + mnth + \" \" + date + \", \" + year + \".\")"
      ],
      "execution_count": 0,
      "outputs": []
    },
    {
      "metadata": {
        "id": "ESfC7tOqP3qH",
        "colab_type": "text"
      },
      "cell_type": "markdown",
      "source": [
        "The error report this code generates should look something like this:\n",
        "\n",
        "```\n",
        "---------------------------------------------------------------------------\n",
        "NameError                                 Traceback (most recent call last)\n",
        "<ipython-input-9-3bbf058bce09> in <module>()\n",
        "      3 year = 2018\n",
        "      4 \n",
        "----> 5 print(\"Today is \" + mnth + \" \" + date + \", \" + year + \".\")\n",
        "\n",
        "NameError: name 'mnth' is not defined\n",
        "```\n",
        "\n",
        "Again, the most useful line is the very last one. It tells us there is a **`NameError`**. A `NameError` occurs when Python tries to use the value of a variable but the variable has not yet been introduced into the program. This usually happens because of a typo in the name of the variable, which is the case here.\n",
        "\n",
        "Read the second part of the error message:\n",
        "\n",
        "```\n",
        "name 'mnth' is not defined\n",
        "```\n",
        "\n",
        "Where is the arrow pointing? To line 5. And indeed, in line 5 you can see the typo: we've omitted the '`o`' from `month`. When we spell it correctly, the program runs without error.\n"
      ]
    },
    {
      "metadata": {
        "id": "Af5ruWZsRTtc",
        "colab_type": "text"
      },
      "cell_type": "markdown",
      "source": [
        "## Action at a Distance"
      ]
    },
    {
      "metadata": {
        "id": "SNAkm-qGRX03",
        "colab_type": "text"
      },
      "cell_type": "markdown",
      "source": [
        "Here's a slightly trickier error. Look at this code, see if you can spot the error, then run it."
      ]
    },
    {
      "metadata": {
        "id": "fsS-G6rRRSj3",
        "colab_type": "code",
        "colab": {
          "autoexec": {
            "startup": false,
            "wait_interval": 0
          }
        }
      },
      "cell_type": "code",
      "source": [
        "day = \"Tuesday\"\n",
        "weater = \"rainy\"\n",
        "teacher = \"Mr. Miller\"\n",
        "\n",
        "print(\"Today is \" + day + \".\")\n",
        "print(\"The weather is \" + weather)\n",
        "print(\"The teacher is \" + teacher)"
      ],
      "execution_count": 0,
      "outputs": []
    },
    {
      "metadata": {
        "id": "2yKBZa27SLie",
        "colab_type": "text"
      },
      "cell_type": "markdown",
      "source": [
        "The error report should read:\n",
        "\n",
        "```\n",
        "NameError                                 Traceback (most recent call last)\n",
        "<ipython-input-10-92185a5b6c96> in <module>()\n",
        "      4 \n",
        "      5 print(\"Today is \" + day + \".\")\n",
        "----> 6 print(\"The weather is \" + weather)\n",
        "      7 print(\"The teacher is \" + teacher)\n",
        "\n",
        "NameError: name 'weather' is not defined\n",
        "```\n",
        "\n",
        "Again, start with the last line. It tells us that there is a `NameError`, and that Python doesn't know about a variable named `weather`. Can you spot the typo?\n",
        "\n",
        "Next, look at the line indicated by the arrow, line 6:\n",
        "\n",
        "```\n",
        "print(\"The weather is \" + weather)\n",
        "```\n",
        "\n",
        "Now can you spot the typo?\n",
        "\n",
        "This case is trickier than before, because line 6 is not the problem. There is no typo in line 6. The problem is back at line 2, where we told Python to create a variable to hold today's weather. That's where we committed a typo:\n",
        "\n",
        "\n",
        "```\n",
        "weater = \"rainy\"\n",
        "```\n",
        "\n",
        "Python doesn't know about the spelling of English words. You could name a variable `w` or `lxfh2k` and it would be happy. So in this case, it's happy to accept the variable name is the misspelled `weater`. The only problem arises when we spell the variable name differently (as it happens \"correctly\") in line 6. That's the first time Python tries to get the value of a variable with an unfamiliar name, so that's where it reports a problem."
      ]
    },
    {
      "metadata": {
        "id": "KQ-Q41mkT73E",
        "colab_type": "text"
      },
      "cell_type": "markdown",
      "source": [
        "## Common Error Types\n",
        "\n",
        "There are [dozens of error types in Python 3](https://docs.python.org/3/library/exceptions.html#concrete-exceptions), but in your early days you will encounter just a few:\n",
        "\n",
        "* `SyntaxError`\n",
        "* `TypeError`\n",
        "* `ValueError`\n",
        "* `NameError`\n",
        "* `IndentationError`"
      ]
    },
    {
      "metadata": {
        "id": "i1ACZDMhWGhX",
        "colab_type": "text"
      },
      "cell_type": "markdown",
      "source": [
        "### SyntaxError\n",
        "\n",
        "A **`SyntaxError`** happens when you make an error in the syntax of your program. Python has no way of making sense of what you wrote, because it is very strict about grammar and spelling. Usually `SyntaxErrors` can be traced back to missing punctuation characters, such as parentheses, quotation marks, or commas\n",
        "\n",
        "Here are 3 tiny programs each with a `SyntaxError`. Run each one, read the error message, then fix the problem and run it again.\n",
        "\n"
      ]
    },
    {
      "metadata": {
        "id": "LaqO7xVBWHkK",
        "colab_type": "code",
        "colab": {
          "autoexec": {
            "startup": false,
            "wait_interval": 0
          }
        }
      },
      "cell_type": "code",
      "source": [
        "# Whoops! Left out the final quotation mark.\n",
        "drink = \"coffee   "
      ],
      "execution_count": 0,
      "outputs": []
    },
    {
      "metadata": {
        "id": "i3Ztz7RhWqZH",
        "colab_type": "code",
        "colab": {
          "autoexec": {
            "startup": false,
            "wait_interval": 0
          }
        }
      },
      "cell_type": "code",
      "source": [
        "# Whoops! Have an extra parenthesis in there.\n",
        "print(\"Why can't it understand what I mean...\"))"
      ],
      "execution_count": 0,
      "outputs": []
    },
    {
      "metadata": {
        "id": "ZLK_o2e7XnKA",
        "colab_type": "code",
        "colab": {
          "autoexec": {
            "startup": false,
            "wait_interval": 0
          }
        }
      },
      "cell_type": "code",
      "source": [
        "# Whoops! the second plus sign isn't followed by another string.\n",
        "# Nothing to print after \"grail\", so that's a SyntaxError\n",
        "print(\"What is your quest? \" + \"I seek the grail\" +)"
      ],
      "execution_count": 0,
      "outputs": []
    },
    {
      "metadata": {
        "id": "U4yUPt2CYge1",
        "colab_type": "text"
      },
      "cell_type": "markdown",
      "source": [
        "### TypeError\n",
        "\n",
        "A **`TypeError`** occurs when an action is applied to an object of inappropriate type. Some types we've seen are *string*, *integer*, and *float*. Later we'll meet other types like *list*, *set*, and *dictionary*. Some actions make sense for one type but not another. You can add two integers, but you can't add an integer to a string. You can append an item to end of a list, but you can't append an item to the end of a number. Asking Python to do something like that will usually yield a `TypeError`.\n",
        "\n",
        "For the examples below,\n",
        "\n",
        "1. read each program\n",
        "2. identify the error\n",
        "3. run it\n",
        "4. read the error message"
      ]
    },
    {
      "metadata": {
        "id": "w6R_xwxjZMkf",
        "colab_type": "code",
        "colab": {
          "autoexec": {
            "startup": false,
            "wait_interval": 0
          }
        }
      },
      "cell_type": "code",
      "source": [
        "three_string = \"three\"\n",
        "three_integer = 3\n",
        "errorful_six = three_string + three_integer"
      ],
      "execution_count": 0,
      "outputs": []
    },
    {
      "metadata": {
        "id": "tSJjIAf3ZvDh",
        "colab_type": "code",
        "colab": {
          "autoexec": {
            "startup": false,
            "wait_interval": 0
          }
        }
      },
      "cell_type": "code",
      "source": [
        "# Which is bigger, 7 or 4 ?\n",
        "7 > \"four\" "
      ],
      "execution_count": 0,
      "outputs": []
    },
    {
      "metadata": {
        "id": "WxECH6iFaIJ4",
        "colab_type": "code",
        "colab": {
          "autoexec": {
            "startup": false,
            "wait_interval": 0
          }
        }
      },
      "cell_type": "code",
      "source": [
        "# This is the way you define a list in Python\n",
        "todo_list = [\"homework\", \"exercise\", \"shower\"]\n",
        "\n",
        "# This is how you do something with each element of a list, one at a time.\n",
        "for task in todo_list:\n",
        "  print(task)\n",
        "\n",
        "  \n",
        "# This is not a list\n",
        "days_in_february = 28\n",
        "\n",
        "# This doesn't work...\n",
        "for day in days_in_february:\n",
        "  print(day)"
      ],
      "execution_count": 0,
      "outputs": []
    },
    {
      "metadata": {
        "id": "4I647TIhcnhk",
        "colab_type": "text"
      },
      "cell_type": "markdown",
      "source": [
        "### NameError\n",
        "\n",
        "We've already seen `NameError` in our first debugging examples of this lab. The most common cause is a typo in your code, either in the name of a variable, or in the name of a python command like `print()` or `input()`. Here are 3 examples for you to run:"
      ]
    },
    {
      "metadata": {
        "id": "GUepMeBEdOuy",
        "colab_type": "code",
        "colab": {
          "autoexec": {
            "startup": false,
            "wait_interval": 0
          }
        }
      },
      "cell_type": "code",
      "source": [
        "city = \"Brookline\"\n",
        "state = \"Massachusetts\"\n",
        "qrint(\"I attend school in \" + city + \",\" + state)"
      ],
      "execution_count": 0,
      "outputs": []
    },
    {
      "metadata": {
        "id": "muYNUyvjdx7P",
        "colab_type": "code",
        "colab": {
          "autoexec": {
            "startup": false,
            "wait_interval": 0
          }
        }
      },
      "cell_type": "code",
      "source": [
        "flavor = input(\"What is your favorite ice cream?\")\n",
        "topping = imput(\"What is your favorite topping?\")\n",
        "print(flavor + \" with \" + topping + \". What a great dessert!\")"
      ],
      "execution_count": 0,
      "outputs": []
    },
    {
      "metadata": {
        "id": "au-ARiaheQL0",
        "colab_type": "code",
        "colab": {
          "autoexec": {
            "startup": false,
            "wait_interval": 0
          }
        }
      },
      "cell_type": "code",
      "source": [
        "first = \"... and the last shall be first.\"\n",
        "last = \"The first shall be last..., \"\n",
        "temp = first\n",
        "first = last\n",
        "last = tmp\n",
        "print(first + last)"
      ],
      "execution_count": 0,
      "outputs": []
    },
    {
      "metadata": {
        "id": "uTd7Et1wexoW",
        "colab_type": "text"
      },
      "cell_type": "markdown",
      "source": [
        "### ValueError\n",
        "\n",
        "A **`ValueError`** occurs in Python when a command receives an input that has the right type, but an inappropriate value. For example, if we try to use the `int()` command to convert a string to an integer, but the string is not composed of digits."
      ]
    },
    {
      "metadata": {
        "id": "kynQ64PIivNh",
        "colab_type": "code",
        "colab": {
          "autoexec": {
            "startup": false,
            "wait_interval": 0
          }
        }
      },
      "cell_type": "code",
      "source": [
        "number_four_hundred = 400\n",
        "numeral_four_hundred = \"400\"\n",
        "words_four_hundred = \"four hundred\"\n",
        "\n",
        "# This line is fine, since the string \"400\" comprises only digits\n",
        "converted_from_numeral = int(numeral_four_hundred)\n",
        "\n",
        "# This line is not fine, since the string \"four hundred\" has non-digits in it.\n",
        "converted_from_words = int(words_four_hundred)"
      ],
      "execution_count": 0,
      "outputs": []
    },
    {
      "metadata": {
        "id": "uAZ_nXdqy1rj",
        "colab_type": "text"
      },
      "cell_type": "markdown",
      "source": [
        "### IndentationError\n",
        "\n",
        "Python is surprisingly picky about blank spaces at the start of a line of code. \n",
        "An **`IndentationError`** occurs if your program violates one of Python's rules about\n",
        "how many spaces or tabs occur at the beginning of a line.\n",
        "\n",
        "Until now, we haven't had any reason to start a line with a blank space. But watch\n",
        "what happens if we insert one just as an experiment:"
      ]
    },
    {
      "metadata": {
        "id": "XnkbtwnQzRBT",
        "colab_type": "code",
        "colab": {
          "autoexec": {
            "startup": false,
            "wait_interval": 0
          }
        }
      },
      "cell_type": "code",
      "source": [
        "print(\"beginning\")\n",
        " print(\"middle\")\n",
        "print(\"end\")"
      ],
      "execution_count": 0,
      "outputs": []
    },
    {
      "metadata": {
        "id": "qLGdI9aI0WCT",
        "colab_type": "text"
      },
      "cell_type": "markdown",
      "source": [
        "The leading space on the second line gives Python fits. It displays the error:\n",
        "\n",
        "```\n",
        "  File \"<ipython-input-15-b38070a7942d>\", line 2\n",
        "    print(\"middle\")\n",
        "    ^\n",
        "IndentationError: unexpected indent\n",
        "```\n",
        "\n",
        "To fix it, simply remove the space and all will be well again.\n",
        "\n",
        "The reason Python is so picky about leading whitespace is that is uses indentation to indicate where blocks of code begin and end. For example, these two programs do differnet things (run them to verify this)"
      ]
    },
    {
      "metadata": {
        "id": "gqkGgPJH1MG2",
        "colab_type": "code",
        "colab": {
          "autoexec": {
            "startup": false,
            "wait_interval": 0
          }
        }
      },
      "cell_type": "code",
      "source": [
        "# Version 1: final line indented 2 spaces\n",
        "n = 0\n",
        "while n < 4:\n",
        "  n = n + 1\n",
        "  print(\"n is: \" + str(n))\n",
        "  print(\"Pay attention to indentation!\")"
      ],
      "execution_count": 0,
      "outputs": []
    },
    {
      "metadata": {
        "id": "dQZqcjha1pAE",
        "colab_type": "code",
        "colab": {
          "autoexec": {
            "startup": false,
            "wait_interval": 0
          }
        }
      },
      "cell_type": "code",
      "source": [
        "# Version 2: final line *not* indented at all\n",
        "n = 0\n",
        "while n < 4:\n",
        "  n = n + 1\n",
        "  print(\"n is: \" + str(n))\n",
        "print(\"Pay attention to indentation!\")"
      ],
      "execution_count": 0,
      "outputs": []
    },
    {
      "metadata": {
        "id": "RhKXUiKq16av",
        "colab_type": "text"
      },
      "cell_type": "markdown",
      "source": [
        "In the first version, the final line is indented 2 spaces. That tells Python to consider it part of the instructions to exectue so long as `n` is less than 4.  So in version 1, the warning to attend to indentation is printed 4 times.\n",
        "\n",
        "In the second version, the final line is **not** indented at all. That tells python **not** to consider it part of the instructions to execute repeatedly. So in version 2, the warning is printed just once, after all the repeats of printing `n`.\n",
        "\n",
        "In most other computer languages, programmers use the curly brace characters `{` and `}` to show where blocks begin and end:\n",
        "\n",
        "```\n",
        "# This is not Python. Just showing where curly braces would go if it followed\n",
        "# the style of languages that don't care about white space.\n",
        "\n",
        "# Version 1: final line inside curly braces\n",
        "n = 0\n",
        "while n < 4 {\n",
        "  n = n + 1\n",
        "  print(\"n is: \" + str(n))\n",
        "  print(\"Pay attention to indentation!\")\n",
        "}\n",
        "\n",
        "# Version 2: final line outside curly braces\n",
        "n = 0\n",
        "while n < 4 {\n",
        "  n = n + 1\n",
        "  print(\"n is: \" + str(n))\n",
        "}\n",
        "print(\"Pay attention to indentation!\")\n",
        "\n",
        "```\n",
        "\n",
        "Python uses whitespace as an indication of block beginnings and endings, and looks for a 2 space indent. But what happens if you give it a 1 space indentation at an unexpected time? You get an error:\n",
        "\n"
      ]
    },
    {
      "metadata": {
        "id": "GdNeVQNY4NEw",
        "colab_type": "code",
        "colab": {
          "autoexec": {
            "startup": false,
            "wait_interval": 0
          }
        }
      },
      "cell_type": "code",
      "source": [
        "# Version 3: final line intented just 1 space -- that's an error\n",
        "n = 0\n",
        "while n < 4:\n",
        "  n = n + 1\n",
        "  print(\"n is: \" + str(n))\n",
        " print(\"Pay attention to indentation\")"
      ],
      "execution_count": 0,
      "outputs": []
    },
    {
      "metadata": {
        "id": "kecNrIjK4h5h",
        "colab_type": "text"
      },
      "cell_type": "markdown",
      "source": [
        "We'll talk about this more when we learn what blocks are actually used for. In the meantime make sure all your code is lined up with the code above it that you want to be run in sequence.\n",
        "\n",
        "Here's two more indentation errors for you to inspect."
      ]
    },
    {
      "metadata": {
        "id": "_dK8CtOA42Da",
        "colab_type": "code",
        "colab": {
          "autoexec": {
            "startup": false,
            "wait_interval": 0
          }
        }
      },
      "cell_type": "code",
      "source": [
        "a = \"silly\"\n",
        "b = \"hogwash\"\n",
        " temp = a\n",
        "a = b\n",
        "b = temp"
      ],
      "execution_count": 0,
      "outputs": []
    },
    {
      "metadata": {
        "id": "whOcA7VS5C4h",
        "colab_type": "code",
        "colab": {
          "autoexec": {
            "startup": false,
            "wait_interval": 0
          }
        }
      },
      "cell_type": "code",
      "source": [
        "  print(\"first line indent\")\n",
        "  print(\"is fine since nothing is above\")\n",
        " print(\"outdent is a problem\")"
      ],
      "execution_count": 0,
      "outputs": []
    },
    {
      "metadata": {
        "id": "mIGQR00w5XFa",
        "colab_type": "code",
        "colab": {
          "autoexec": {
            "startup": false,
            "wait_interval": 0
          }
        }
      },
      "cell_type": "code",
      "source": [
        "a = 1\n",
        " b = 2\n",
        " c = 3\n",
        " d = 4\n",
        " print(c)\n",
        "  "
      ],
      "execution_count": 0,
      "outputs": []
    },
    {
      "metadata": {
        "id": "p163Q3UqkBtK",
        "colab_type": "text"
      },
      "cell_type": "markdown",
      "source": [
        "## Find and Fix Exercises\n",
        "\n",
        "Now it's time for you to find bugs in some larger programs. These programs may use techniques and parts of Python you haven't encountered yet. Don't worry about that. Run the program, read the error message, look at the type of the error, look at the line it points you to, fix the problem.\n",
        "\n",
        "Each program should run smoothly when you fix the problem."
      ]
    },
    {
      "metadata": {
        "id": "FxOBm1w9kj6h",
        "colab_type": "text"
      },
      "cell_type": "markdown",
      "source": [
        "### Count by Fives"
      ]
    },
    {
      "metadata": {
        "id": "xWLHHc8MkxML",
        "colab_type": "code",
        "colab": {
          "autoexec": {
            "startup": false,
            "wait_interval": 0
          }
        }
      },
      "cell_type": "code",
      "source": [
        "for i in range(5, 105, 5):\n",
        "    printt(i)"
      ],
      "execution_count": 0,
      "outputs": []
    },
    {
      "metadata": {
        "id": "nodc2sCbk-mc",
        "colab_type": "text"
      },
      "cell_type": "markdown",
      "source": [
        "### Adding the First N Numbers"
      ]
    },
    {
      "metadata": {
        "id": "t2cRsIf7k9o1",
        "colab_type": "code",
        "colab": {
          "autoexec": {
            "startup": false,
            "wait_interval": 0
          }
        }
      },
      "cell_type": "code",
      "source": [
        "prompt = \"\"\"\n",
        "I can add up all the numbers from 1 to any number you like.\n",
        "Enter a number -->\n",
        "\"\"\"\n",
        "n_str = input(prompt)\n",
        "n = int n_str)\n",
        "\n",
        "# Start the total at 1 and the range at 2 so our output looks nice\n",
        "# without boring 0+0=0, 0+1=1\n",
        "# End the range at n+1 so we include n in the total\n",
        "total = 1\n",
        "for number in range(2, n+1):\n",
        "    print(\"%d+%d=%d\" % (total, number, number + total))\n",
        "    total += number\n",
        "print(\"The answer is %d\" % total)"
      ],
      "execution_count": 0,
      "outputs": []
    },
    {
      "metadata": {
        "id": "ZrPhx7KMmT3c",
        "colab_type": "text"
      },
      "cell_type": "markdown",
      "source": [
        "### Typing Test"
      ]
    },
    {
      "metadata": {
        "id": "zLTEOhgnmSs4",
        "colab_type": "code",
        "colab": {
          "autoexec": {
            "startup": false,
            "wait_interval": 0
          }
        }
      },
      "cell_type": "code",
      "source": [
        "import random\n",
        "\n",
        "targets = [\"apple\", \"banana\", orange, \"pear\"]\n",
        "for target in targets:\n",
        "    entry = None\n",
        "    while entry != target:\n",
        "        entry = input(\"Type \\\"%s\\\":\\n----> \" % target)\n",
        "    print(\"You got it! Now try another.\\n\")"
      ],
      "execution_count": 0,
      "outputs": []
    },
    {
      "metadata": {
        "id": "jdhsh5AdnAss",
        "colab_type": "text"
      },
      "cell_type": "markdown",
      "source": [
        "### Word Scramble\n",
        "\n",
        "When you run this program, the error message will offer you a suggestion of how to fix it. In this case, that suggestion is not on target -- try to fix the error in a more natural, straightforward way. Hint: you are missing just two characters to make it right."
      ]
    },
    {
      "metadata": {
        "id": "TqBE0_yFnDLE",
        "colab_type": "code",
        "colab": {
          "autoexec": {
            "startup": false,
            "wait_interval": 0
          }
        }
      },
      "cell_type": "code",
      "source": [
        "import random\n",
        "\n",
        "print(\"Welcome to Word Scramble!\\n\\n\")\n",
        "print(\"Try unscrambling these letters to make an english word.\\n\")\n",
        "\n",
        "words = [\"apple\", \"banana\", \"peach\", \"apricot\"]\n",
        "\n",
        "for i in range(1,3):\n",
        "  word = random.choice(words)\n",
        "  letters = list(word)\n",
        "  random.shuffle(letters)\n",
        "  scramble = ''.join(letters)\n",
        "  \n",
        "  print(\"Scrambled: %s\" % scramble)\n",
        "  guess = input(\"What word is this? \")\n",
        "  if guess == word:\n",
        "    print \"\\nThat's right!\\n\"\n",
        "  else:\n",
        "    print(\"\\nNo, the word was %s\\n\" % word)"
      ],
      "execution_count": 0,
      "outputs": []
    },
    {
      "metadata": {
        "id": "GhEFbV1MoZhC",
        "colab_type": "text"
      },
      "cell_type": "markdown",
      "source": [
        "### Scrabble Tiles\n",
        "\n",
        "This one is tricky -- you might want to reread **Action at a Distance** above. Then check out how the variable **`total`** is given its initial value. Does that look right to you?"
      ]
    },
    {
      "metadata": {
        "id": "IF1uHScOod30",
        "colab_type": "code",
        "colab": {
          "autoexec": {
            "startup": false,
            "wait_interval": 0
          }
        }
      },
      "cell_type": "code",
      "source": [
        "value_of_tile = {'A': 1, 'B': 3, 'C': 3, 'D': 2, 'E': 1, 'F': 4, 'G': 2,\n",
        "                 'H': 4, 'I': 1, 'J': 8, 'K': 5, 'L': 1, 'M': 3, 'N': 1,\n",
        "                 'O': 1, 'P': 3, 'Q': 10, 'R': 1, 'S': 1, 'T': 1, 'U': 1,\n",
        "                 'V': 4, 'W': 4, 'X': 8, 'Y': 4, 'Z': 10}\n",
        "\n",
        "print(\"Enter a word and I'll compute the value in Scrabble.\")\n",
        "\n",
        "word = input(\"Enter a word: \")\n",
        "total = \"zero\"\n",
        "print()\n",
        "for letter in word.upper():\n",
        "    value = value_of_tile[letter]\n",
        "    print(\"%s is worth %d\" % (letter, value))\n",
        "    total = value + total\n",
        "print()\n",
        "print(\"The total is %d\" % total)"
      ],
      "execution_count": 0,
      "outputs": []
    },
    {
      "metadata": {
        "id": "0VpFh_R-pgtw",
        "colab_type": "text"
      },
      "cell_type": "markdown",
      "source": [
        "### Rock, Paper, Scissors\n",
        "\n",
        "It's common for your code to have more than one error.\n",
        "\n",
        "In this program, there are 3 separate bugs. Python will stop running your program as soon as it reaches the first error. When you fix that and re-run, the error report will change and you'll reach the second error, and so on until you find and fix all three.\n",
        "\n",
        "***Read the error reports so you know whether your change fixed the error!!***"
      ]
    },
    {
      "metadata": {
        "id": "Cv9yiCsyqSQr",
        "colab_type": "code",
        "colab": {
          "autoexec": {
            "startup": false,
            "wait_interval": 0
          }
        }
      },
      "cell_type": "code",
      "source": [
        "import random\n",
        "\n",
        "choices = [\"rock\", \"paper\", \"scissors\"]\n",
        "\n",
        "user_choice = input(\"rock, paper, or scissors? \")\n",
        "if (user_choice not in choices):\n",
        "    print(\"Sorry, you must type \\\"rock\\\", \\\"paper\\\", or \\\"scissors\\\" (all lower-case).\")\n",
        "    print(\"You typed: \\\"\" + user_choice + \"\\\".\")\n",
        "    raise ValueError(\"That's not 'rock', 'paper', or 'scissors'\")\n",
        "\n",
        "computer_choice = random.choice(choices)\n",
        "\n",
        "print(\"\\n\")\n",
        "print(\"I chose \" + computer_choice + \".\")\n",
        "print(\"You chose \" + user choice + \".\")\n",
        "print(\"\\n\")\n",
        "\n",
        "if (user_choice == \"rock\" and computer_choce == \"paper\"):\n",
        "    print(\"I win!\")\n",
        "elif (user_choice == \"rock\" and computer_choice == \"scissors\"):\n",
        "    print(\"You win!\")\n",
        "elif (user_choice == \"paper\" and computer_choice == \"scissors\"):\n",
        "    print(\"I win!\")\n",
        "elif (user_choice == \"paper\" and computer_choce == \"rock\"):\n",
        "    print(\"You win!\")\n",
        "elif (user_choice == \"scissors\" and computer_choce == \"rock\"):\n",
        "    print(\"I win!\")\n",
        "elif (user_choice == \"scissors\" and computer_choice == \"paper\"):\n",
        "    print(\"You win!\")\n",
        "else:\n",
        "    print(\"It's a tie!\")\n",
        "\n",
        "print('Let's play again\")"
      ],
      "execution_count": 0,
      "outputs": []
    },
    {
      "metadata": {
        "id": "WoX6VGtZxM6s",
        "colab_type": "text"
      },
      "cell_type": "markdown",
      "source": [
        "## Go Bug Someone Else!\n",
        "\n",
        "### Easy as Pie\n",
        "\n",
        "Now it's time to challenge your neighbor!\n",
        "\n",
        "First run this program to confirm that it works. Then introduce a bug by adding \n",
        "or removing just a few characters. Do it in secret, and then show your neighbor\n",
        "the error message and ask them to find the bug you inserted.\n",
        "\n",
        "Try to make it one of the error types we've discussed above, or just try deleting\n",
        "a single random character and see if you get an error message.\n",
        "\n",
        "Take turns creating bugs for each other to find. If you can't figure out how to get\n",
        "the program working again, just reload this notebook and it should restore the original version.\n",
        "\n",
        "If you get bored with this program, try inserting your own errors into one of the \n",
        "**Find and Fix** examples above for your neighbor to find.\n",
        "\n",
        "Good luck stumping your neighbor!!"
      ]
    },
    {
      "metadata": {
        "id": "LUOUPfGex00f",
        "colab_type": "code",
        "colab": {
          "autoexec": {
            "startup": false,
            "wait_interval": 0
          }
        }
      },
      "cell_type": "code",
      "source": [
        "# This computes the Leibniz formula for pi\n",
        "# pi/4 = 1 - 1/3 + 1/5 - 1/7 + 1/9 ...\n",
        "# It is a very slowly converging series.\n",
        "# 10000 terms gets us 3.141(wrong digits after)\n",
        "\n",
        "one_fourth_pi = 0.0\n",
        "for term in range(10000):\n",
        "    denominator = 2*term + 1\n",
        "    fraction = 1.0/denominator\n",
        "    if term % 2 == 0:\n",
        "        one_fourth_pi += fraction\n",
        "    else:\n",
        "        one_fourth_pi -= fraction\n",
        "print(\"Pi is approximately: \" + str(4*one_fourth_pi))"
      ],
      "execution_count": 0,
      "outputs": []
    }
  ]
}